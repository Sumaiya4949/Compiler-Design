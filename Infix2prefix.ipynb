{
 "cells": [
  {
   "cell_type": "code",
   "execution_count": 1,
   "metadata": {},
   "outputs": [
    {
     "name": "stdout",
     "output_type": "stream",
     "text": [
      "Enter an equation :a+b-c\n"
     ]
    }
   ],
   "source": [
    "Equation = input('Enter an equation :')"
   ]
  },
  {
   "cell_type": "code",
   "execution_count": 12,
   "metadata": {},
   "outputs": [
    {
     "name": "stdout",
     "output_type": "stream",
     "text": [
      "abc-+"
     ]
    }
   ],
   "source": [
    "operator = ['*','/','-','+']\n",
    "output = []\n",
    "stack = []\n",
    "for iteam in Equation:\n",
    "    if iteam not in operator:\n",
    "        output.append(iteam)\n",
    "    else:\n",
    "        if len(stack)!=0:\n",
    "                if operator.index(stack[-1])>=operator.index(iteam):\n",
    "                    stack.append(iteam)\n",
    "                else:\n",
    "                    output.append(stack[-1])\n",
    "                    stack.pop()\n",
    "                    stack.append(iteam)\n",
    "        else:\n",
    "            stack.append(iteam)\n",
    "outputs = output + stack[::-1]\n",
    "for iteam in outputs:\n",
    "    if iteam != \" \":\n",
    "        print (iteam,end=\"\")\n",
    "            "
   ]
  },
  {
   "cell_type": "code",
   "execution_count": null,
   "metadata": {
    "collapsed": true
   },
   "outputs": [],
   "source": []
  },
  {
   "cell_type": "code",
   "execution_count": null,
   "metadata": {
    "collapsed": true
   },
   "outputs": [],
   "source": []
  }
 ],
 "metadata": {
  "kernelspec": {
   "display_name": "Python 3",
   "language": "python",
   "name": "python3"
  },
  "language_info": {
   "codemirror_mode": {
    "name": "ipython",
    "version": 3
   },
   "file_extension": ".py",
   "mimetype": "text/x-python",
   "name": "python",
   "nbconvert_exporter": "python",
   "pygments_lexer": "ipython3",
   "version": "3.6.3"
  }
 },
 "nbformat": 4,
 "nbformat_minor": 2
}
