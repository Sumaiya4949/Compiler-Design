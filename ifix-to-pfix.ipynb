{
 "cells": [
  {
   "cell_type": "code",
   "execution_count": 1,
   "metadata": {
    "collapsed": true
   },
   "outputs": [],
   "source": [
    "#sumaiya sultana"
   ]
  },
  {
   "cell_type": "code",
   "execution_count": 7,
   "metadata": {},
   "outputs": [
    {
     "name": "stdout",
     "output_type": "stream",
     "text": [
      "Enter a equation: x+y*z/l\n"
     ]
    }
   ],
   "source": [
    "eqtn = input('Enter a equation: ')"
   ]
  },
  {
   "cell_type": "code",
   "execution_count": 8,
   "metadata": {},
   "outputs": [
    {
     "name": "stdout",
     "output_type": "stream",
     "text": [
      "xy*zl/+"
     ]
    }
   ],
   "source": [
    "operator = ['x', '/', '-', '+']\n",
    "output = []\n",
    "stack = []\n",
    "for i in eqtn:\n",
    "    if i not in operator:\n",
    "        output.append(i)\n",
    "    else:\n",
    "        if len(stack) != 0:\n",
    "            if operator.index(stack[-1]) >= operator.index(i):\n",
    "                stack.append(i)\n",
    "            else:\n",
    "                output.append(stack[-1])\n",
    "                stack.pop()\n",
    "                stack.append(i)\n",
    "        else:\n",
    "            stack.append(i)\n",
    "\n",
    "outputs = output + stack[::-1]\n",
    "for i in outputs:\n",
    "    if i != \" \":\n",
    "        print(i, end=\"\")"
   ]
  },
  {
   "cell_type": "code",
   "execution_count": null,
   "metadata": {
    "collapsed": true
   },
   "outputs": [],
   "source": []
  }
 ],
 "metadata": {
  "kernelspec": {
   "display_name": "Python 3",
   "language": "python",
   "name": "python3"
  },
  "language_info": {
   "codemirror_mode": {
    "name": "ipython",
    "version": 3
   },
   "file_extension": ".py",
   "mimetype": "text/x-python",
   "name": "python",
   "nbconvert_exporter": "python",
   "pygments_lexer": "ipython3",
   "version": "3.6.3"
  }
 },
 "nbformat": 4,
 "nbformat_minor": 2
}
